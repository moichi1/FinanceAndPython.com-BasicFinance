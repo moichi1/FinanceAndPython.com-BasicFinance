{
 "cells": [
  {
   "cell_type": "code",
   "execution_count": 1,
   "metadata": {
    "collapsed": true
   },
   "outputs": [],
   "source": [
    "payments = [100,200,300,400]\n",
    "years = [5,10,15,20]\n",
    "rates = [.01,.02,.03,.04]"
   ]
  },
  {
   "cell_type": "code",
   "execution_count": 2,
   "metadata": {},
   "outputs": [
    {
     "name": "stdout",
     "output_type": "stream",
     "text": [
      "100\n",
      "5\n",
      "0.01\n",
      "\n",
      "200\n",
      "10\n",
      "0.02\n",
      "\n",
      "300\n",
      "15\n",
      "0.03\n",
      "\n",
      "400\n",
      "20\n",
      "0.04\n",
      "\n"
     ]
    }
   ],
   "source": [
    "for index in range(0,len(payments)):\n",
    "    print(payments[index])\n",
    "    print(years[index])\n",
    "    print(rates[index])\n",
    "    print(\"\")"
   ]
  },
  {
   "cell_type": "code",
   "execution_count": 3,
   "metadata": {
    "collapsed": true
   },
   "outputs": [],
   "source": [
    "def TVM(p,r,t,type):\n",
    "    discount = (1+r)**t\n",
    "    if type==\"FV\":\n",
    "        A = p*discount\n",
    "        return A\n",
    "    if type==\"PV\":\n",
    "        A = p/discount\n",
    "        return A"
   ]
  },
  {
   "cell_type": "code",
   "execution_count": 4,
   "metadata": {},
   "outputs": [
    {
     "name": "stdout",
     "output_type": "stream",
     "text": [
      "98.22419709752423\n",
      "190.63478193082776\n",
      "276.0562951874625\n",
      "354.1369311851404\n"
     ]
    }
   ],
   "source": [
    "for index in range(0,len(payments)):\n",
    "    print(TVM(payments[index],rates[index],years[index],\"PV\"))"
   ]
  },
  {
   "cell_type": "code",
   "execution_count": 5,
   "metadata": {},
   "outputs": [
    {
     "name": "stdout",
     "output_type": "stream",
     "text": [
      "919.0522054009549\n"
     ]
    }
   ],
   "source": [
    "total = 0\n",
    "for index in range(0,len(payments)):\n",
    "    total+= TVM(payments[index],rates[index],years[index],\"PV\")\n",
    "print(total)"
   ]
  },
  {
   "cell_type": "code",
   "execution_count": 6,
   "metadata": {
    "collapsed": true
   },
   "outputs": [],
   "source": [
    "def totalTVM(payments,years,rates):\n",
    "    total = 0\n",
    "    for index in range(0,len(payments)):\n",
    "        total+= TVM(payments[index],rates[index],years[index],\"PV\")\n",
    "    return total"
   ]
  },
  {
   "cell_type": "code",
   "execution_count": 7,
   "metadata": {},
   "outputs": [
    {
     "data": {
      "text/plain": [
       "919.0522054009549"
      ]
     },
     "execution_count": 7,
     "metadata": {},
     "output_type": "execute_result"
    }
   ],
   "source": [
    "totalTVM([100,200,300,400],[5,10,15,20],[.01,.02,.03,.04])"
   ]
  },
  {
   "cell_type": "code",
   "execution_count": 8,
   "metadata": {},
   "outputs": [
    {
     "data": {
      "text/plain": [
       "919.0522054009549"
      ]
     },
     "execution_count": 8,
     "metadata": {},
     "output_type": "execute_result"
    }
   ],
   "source": [
    "payments = [100,200,300,400]\n",
    "years = [5,10,15,20]\n",
    "rates = [.01,.02,.03,.04]\n",
    "totalTVM(payments,years,rates)"
   ]
  },
  {
   "cell_type": "code",
   "execution_count": 9,
   "metadata": {},
   "outputs": [
    {
     "data": {
      "text/plain": [
       "19.052205400954904"
      ]
     },
     "execution_count": 9,
     "metadata": {},
     "output_type": "execute_result"
    }
   ],
   "source": [
    "payments = [-900,100,200,300,400]\n",
    "years = [0,5,10,15,20]\n",
    "rates = [.01,.01,.02,.03,.04]\n",
    "totalTVM(payments,years,rates)"
   ]
  }
 ],
 "metadata": {
  "anaconda-cloud": {},
  "kernelspec": {
   "display_name": "Python 3",
   "language": "python",
   "name": "python3"
  },
  "language_info": {
   "codemirror_mode": {
    "name": "ipython",
    "version": 3
   },
   "file_extension": ".py",
   "mimetype": "text/x-python",
   "name": "python",
   "nbconvert_exporter": "python",
   "pygments_lexer": "ipython3",
   "version": "3.6.1"
  }
 },
 "nbformat": 4,
 "nbformat_minor": 1
}
